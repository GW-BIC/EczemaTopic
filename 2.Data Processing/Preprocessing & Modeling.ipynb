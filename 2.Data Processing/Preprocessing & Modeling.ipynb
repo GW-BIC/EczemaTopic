{
 "cells": [
  {
   "cell_type": "code",
   "execution_count": 1,
   "metadata": {},
   "outputs": [],
   "source": [
    "#!pip install plotly\n",
    "#!pip install ftfy"
   ]
  },
  {
   "cell_type": "code",
   "execution_count": 2,
   "metadata": {},
   "outputs": [
    {
     "data": {
      "text/html": [
       "<style>.container { width:95% !important; }</style>"
      ],
      "text/plain": [
       "<IPython.core.display.HTML object>"
      ]
     },
     "metadata": {},
     "output_type": "display_data"
    }
   ],
   "source": [
    "# Standard Imports\n",
    "import nltk\n",
    "import pandas                        as pd\n",
    "import numpy                         as np\n",
    "import seaborn                       as sns\n",
    "import matplotlib.pyplot             as plt\n",
    "import re\n",
    "import ftfy\n",
    "from IPython.display                 import display_html\n",
    "from IPython.core.display            import display, HTML\n",
    "\n",
    "# Proprocessing, Modeling, & Evaluation\n",
    "from nltk.corpus                     import stopwords\n",
    "from nltk.stem                       import WordNetLemmatizer\n",
    "from nltk.tokenize                   import RegexpTokenizer \n",
    "from sklearn.ensemble                import RandomForestClassifier\n",
    "from sklearn.feature_extraction.text import TfidfVectorizer, CountVectorizer\n",
    "from sklearn.model_selection         import GridSearchCV, train_test_split, cross_val_score\n",
    "from sklearn.metrics                 import accuracy_score, recall_score, roc_auc_score, matthews_corrcoef,roc_curve,precision_score,auc,make_scorer,precision_recall_curve\n",
    "from sklearn.pipeline                import Pipeline\n",
    "from sklearn.svm                     import SVC\n",
    "#from sklearn.tree                    import DecisionTreeClassifier\n",
    "from sklearn                         import model_selection\n",
    "#from xgboost                         import XGBClassifier\n",
    "from sklearn.feature_selection       import chi2,SelectKBest\n",
    "   \n",
    "\n",
    "# Custom Modules\n",
    "import graphs\n",
    "import metrics\n",
    "\n",
    "\n",
    "# Notebook settings & styles\n",
    "sns.set(style = \"white\", palette = \"deep\")\n",
    "display(HTML(\"<style>.container { width:95% !important; }</style>\"))\n",
    "%matplotlib inline"
   ]
  },
  {
   "cell_type": "code",
   "execution_count": 3,
   "metadata": {},
   "outputs": [],
   "source": [
    "Annotated_Sample = pd.read_csv('./Reddit Eczema_All_20201201_Annotated_Sample.csv')"
   ]
  },
  {
   "cell_type": "code",
   "execution_count": 4,
   "metadata": {},
   "outputs": [],
   "source": [
    "stop_words     = stopwords.words('english')\n",
    "\n",
    "##stopwords.extend(new_stopwords)\n",
    "\n",
    "# Instantiating the lemmatizier and tokenizer\n",
    "lemmatizer = WordNetLemmatizer()\n",
    "tokenizer  = RegexpTokenizer(r'\\w+')"
   ]
  },
  {
   "cell_type": "code",
   "execution_count": 5,
   "metadata": {},
   "outputs": [],
   "source": [
    "def cleaning_data(dataframe):\n",
    "   \n",
    "    if 'Annotation' in dataframe :\n",
    "        dataframe[\"label\"] = dataframe[\"Annotation\"].apply(lambda x: 1 if x == \"i\" else 0)\n",
    "    \n",
    "    #Annotated_Sample.drop(columns=['Annotation'],inplace=True)\n",
    "    dataframe.rename(columns={'Author':'author'},inplace=True)\n",
    "    \n",
    "    #lower case\n",
    "    \n",
    "    #dataframe[\"body\"] = dataframe[\"body\"].astype(str)\n",
    "    \n",
    "    dataframe[\"body\"] = dataframe[\"body\"].str.lower()\n",
    "    \n",
    "    dataframe [\"body\"] = dataframe [\"body\"].map(ftfy.fix_encoding)\n",
    "    \n",
    "    #remove URL\n",
    "    dataframe[\"body\"] = dataframe[\"body\"].str.replace(\"http\\S+\", \"\")\n",
    "    \n",
    "    # Setting up the lemmatizer\n",
    "\n",
    "    lemmatized_posts = []\n",
    "\n",
    "    for post in dataframe[\"body\"]:\n",
    "        tokens = tokenizer.tokenize(post)\n",
    "        post   = [lemmatizer.lemmatize(post) for post in tokens]\n",
    "        lemmatized_posts.append(\" \".join(post))\n",
    "\n",
    "    \n",
    "    #remove none letters\n",
    "    \n",
    "    #dataframe[\"body\"] =  dataframe[\"body\"].apply(lambda x: re.sub(r'[^a-z]',' ',str(x)))\n",
    "    \n",
    "\n",
    "    # Appending the lemmatized posts to the dataframe\n",
    "\n",
    "    dataframe[\"lemmatized_text\"] = lemmatized_posts\n",
    "\n",
    "    # Checking the head of the dataframe\n",
    "    #dataframe.head()\n",
    "\n",
    "    return dataframe\n"
   ]
  },
  {
   "cell_type": "code",
   "execution_count": 6,
   "metadata": {},
   "outputs": [
    {
     "name": "stderr",
     "output_type": "stream",
     "text": [
      "/var/folders/70/8trc80rn081bqmp225zwyp8r0000gq/T/ipykernel_65314/4089405346.py:18: FutureWarning: The default value of regex will change from True to False in a future version.\n",
      "  dataframe[\"body\"] = dataframe[\"body\"].str.replace(\"http\\S+\", \"\")\n"
     ]
    }
   ],
   "source": [
    "Annotated_Sample = cleaning_data(Annotated_Sample)\n",
    "#HTML(Annotated_Sample.to_html())"
   ]
  },
  {
   "cell_type": "code",
   "execution_count": null,
   "metadata": {},
   "outputs": [],
   "source": []
  },
  {
   "cell_type": "markdown",
   "metadata": {},
   "source": [
    "# Modelling\n",
    "\n",
    "__Create Test and Training data split__"
   ]
  },
  {
   "cell_type": "code",
   "execution_count": 7,
   "metadata": {},
   "outputs": [],
   "source": [
    "X = Annotated_Sample[\"lemmatized_text\"]\n",
    "y = Annotated_Sample[\"label\"]\n",
    "\n",
    "# The random state ensures reproducability\n",
    "# The stratify argument preserves the distribution of classes\n",
    "\n",
    "X_train, X_test, y_train, y_test = train_test_split(X,\n",
    "                                                    y,\n",
    "                                                    random_state = 42,\n",
    "                                                    stratify     = y)"
   ]
  },
  {
   "cell_type": "markdown",
   "metadata": {},
   "source": [
    "## Support Vector Classifier\n",
    "\n",
    "A support vector machine (in this case a classifier) is at its core a linear model. However, instead of running like a logistic regression, it seeks to linearly separate the data. To do that, it uses a kernel to raise the data into n-dimensional space. It then uses a line, plane (3-dimensional line), or hyperplane (greater than 3-dimensions) to delineate the data\n",
    "\n"
   ]
  },
  {
   "cell_type": "markdown",
   "metadata": {},
   "source": [
    "### Count Vector"
   ]
  },
  {
   "cell_type": "code",
   "execution_count": 8,
   "metadata": {},
   "outputs": [],
   "source": [
    "# Setting up the count vector pipeline\n",
    "cvec_svc_pipe = Pipeline([(\"cvec\", CountVectorizer()),\n",
    "                          (\"bestf\",SelectKBest()),\n",
    "                          (\"svc\", SVC())])"
   ]
  },
  {
   "cell_type": "markdown",
   "metadata": {},
   "source": [
    "#### Count Vector + SVM Kernel - Linear \n"
   ]
  },
  {
   "cell_type": "code",
   "execution_count": 9,
   "metadata": {},
   "outputs": [
    {
     "name": "stdout",
     "output_type": "stream",
     "text": [
      "{'bestf__k': 300, 'bestf__score_func': <function chi2 at 0x7ff17fbf9ca0>, 'cvec__binary': False, 'cvec__max_features': None, 'cvec__min_df': 2, 'cvec__ngram_range': (1, 1), 'cvec__stop_words': ['i', 'me', 'my', 'myself', 'we', 'our', 'ours', 'ourselves', 'you', \"you're\", \"you've\", \"you'll\", \"you'd\", 'your', 'yours', 'yourself', 'yourselves', 'he', 'him', 'his', 'himself', 'she', \"she's\", 'her', 'hers', 'herself', 'it', \"it's\", 'its', 'itself', 'they', 'them', 'their', 'theirs', 'themselves', 'what', 'which', 'who', 'whom', 'this', 'that', \"that'll\", 'these', 'those', 'am', 'is', 'are', 'was', 'were', 'be', 'been', 'being', 'have', 'has', 'had', 'having', 'do', 'does', 'did', 'doing', 'a', 'an', 'the', 'and', 'but', 'if', 'or', 'because', 'as', 'until', 'while', 'of', 'at', 'by', 'for', 'with', 'about', 'against', 'between', 'into', 'through', 'during', 'before', 'after', 'above', 'below', 'to', 'from', 'up', 'down', 'in', 'out', 'on', 'off', 'over', 'under', 'again', 'further', 'then', 'once', 'here', 'there', 'when', 'where', 'why', 'how', 'all', 'any', 'both', 'each', 'few', 'more', 'most', 'other', 'some', 'such', 'no', 'nor', 'not', 'only', 'own', 'same', 'so', 'than', 'too', 'very', 's', 't', 'can', 'will', 'just', 'don', \"don't\", 'should', \"should've\", 'now', 'd', 'll', 'm', 'o', 're', 've', 'y', 'ain', 'aren', \"aren't\", 'couldn', \"couldn't\", 'didn', \"didn't\", 'doesn', \"doesn't\", 'hadn', \"hadn't\", 'hasn', \"hasn't\", 'haven', \"haven't\", 'isn', \"isn't\", 'ma', 'mightn', \"mightn't\", 'mustn', \"mustn't\", 'needn', \"needn't\", 'shan', \"shan't\", 'shouldn', \"shouldn't\", 'wasn', \"wasn't\", 'weren', \"weren't\", 'won', \"won't\", 'wouldn', \"wouldn't\"], 'svc__C': 0.0005, 'svc__kernel': 'linear', 'svc__probability': True}\n"
     ]
    }
   ],
   "source": [
    "# Setting CVEC and pipe hyperparameters\n",
    "cvec_linear_pipe_params = {\"cvec__max_features\": [None], \n",
    "                    \"cvec__ngram_range\" : [(1,1)], \n",
    "                    \"cvec__stop_words\"  : [stop_words],\n",
    "                    \"cvec__binary\"      : [False],\n",
    "                    \"cvec__min_df\"      : [2],\n",
    "                    \"bestf__score_func\" : [chi2],\n",
    "                    \"bestf__k\"          : [250,300,350],       \n",
    "                    \"svc__C\"            : [0.0001,0.0005,0.001,0.005,0.01,0.1,0.2],\n",
    "                    \"svc__kernel\"       : [\"linear\"],\n",
    "                    \"svc__probability\"  : [True]}\n",
    "\n",
    "                   \n",
    "# Instantiating the grid search\n",
    "\n",
    "cvec_linear_svc_gs = GridSearchCV(cvec_svc_pipe, \n",
    "                           param_grid = cvec_linear_pipe_params, \n",
    "                           cv         = 10,\n",
    "                           scoring    = 'roc_auc'\n",
    "                           )\n",
    "\n",
    "                    \n",
    "# Fitting the model to the training data\n",
    "\n",
    "cvec_linear_svc_gs.fit(X_train, y_train)\n",
    "\n",
    "# print best parameter after tuning \n",
    "print(cvec_linear_svc_gs.best_params_) "
   ]
  },
  {
   "cell_type": "code",
   "execution_count": 10,
   "metadata": {},
   "outputs": [
    {
     "data": {
      "text/html": [
       "<div>\n",
       "<style scoped>\n",
       "    .dataframe tbody tr th:only-of-type {\n",
       "        vertical-align: middle;\n",
       "    }\n",
       "\n",
       "    .dataframe tbody tr th {\n",
       "        vertical-align: top;\n",
       "    }\n",
       "\n",
       "    .dataframe thead th {\n",
       "        text-align: right;\n",
       "    }\n",
       "</style>\n",
       "<table border=\"1\" class=\"dataframe\">\n",
       "  <thead>\n",
       "    <tr style=\"text-align: right;\">\n",
       "      <th></th>\n",
       "      <th>param_bestf__k</th>\n",
       "      <th>param_cvec__binary</th>\n",
       "      <th>param_svc__C</th>\n",
       "      <th>param_cvec__min_df</th>\n",
       "      <th>param_svc__kernel</th>\n",
       "      <th>mean_test_score</th>\n",
       "      <th>std_test_score</th>\n",
       "      <th>rank_test_score</th>\n",
       "    </tr>\n",
       "  </thead>\n",
       "  <tbody>\n",
       "    <tr>\n",
       "      <th>8</th>\n",
       "      <td>300</td>\n",
       "      <td>False</td>\n",
       "      <td>0.0005</td>\n",
       "      <td>2</td>\n",
       "      <td>linear</td>\n",
       "      <td>0.867</td>\n",
       "      <td>0.049</td>\n",
       "      <td>1</td>\n",
       "    </tr>\n",
       "    <tr>\n",
       "      <th>9</th>\n",
       "      <td>300</td>\n",
       "      <td>False</td>\n",
       "      <td>0.001</td>\n",
       "      <td>2</td>\n",
       "      <td>linear</td>\n",
       "      <td>0.864</td>\n",
       "      <td>0.048</td>\n",
       "      <td>2</td>\n",
       "    </tr>\n",
       "    <tr>\n",
       "      <th>1</th>\n",
       "      <td>250</td>\n",
       "      <td>False</td>\n",
       "      <td>0.0005</td>\n",
       "      <td>2</td>\n",
       "      <td>linear</td>\n",
       "      <td>0.864</td>\n",
       "      <td>0.047</td>\n",
       "      <td>3</td>\n",
       "    </tr>\n",
       "    <tr>\n",
       "      <th>12</th>\n",
       "      <td>300</td>\n",
       "      <td>False</td>\n",
       "      <td>0.1</td>\n",
       "      <td>2</td>\n",
       "      <td>linear</td>\n",
       "      <td>0.864</td>\n",
       "      <td>0.048</td>\n",
       "      <td>4</td>\n",
       "    </tr>\n",
       "    <tr>\n",
       "      <th>5</th>\n",
       "      <td>250</td>\n",
       "      <td>False</td>\n",
       "      <td>0.1</td>\n",
       "      <td>2</td>\n",
       "      <td>linear</td>\n",
       "      <td>0.863</td>\n",
       "      <td>0.050</td>\n",
       "      <td>5</td>\n",
       "    </tr>\n",
       "  </tbody>\n",
       "</table>\n",
       "</div>"
      ],
      "text/plain": [
       "   param_bestf__k param_cvec__binary param_svc__C param_cvec__min_df  \\\n",
       "8             300              False       0.0005                  2   \n",
       "9             300              False        0.001                  2   \n",
       "1             250              False       0.0005                  2   \n",
       "12            300              False          0.1                  2   \n",
       "5             250              False          0.1                  2   \n",
       "\n",
       "   param_svc__kernel  mean_test_score  std_test_score  rank_test_score  \n",
       "8             linear            0.867           0.049                1  \n",
       "9             linear            0.864           0.048                2  \n",
       "1             linear            0.864           0.047                3  \n",
       "12            linear            0.864           0.048                4  \n",
       "5             linear            0.863           0.050                5  "
      ]
     },
     "execution_count": 10,
     "metadata": {},
     "output_type": "execute_result"
    }
   ],
   "source": [
    "results_linear = pd.DataFrame(cvec_linear_svc_gs.cv_results_)\n",
    "\n",
    "#results.head()\n",
    "results_linear = results_linear.sort_values(by='rank_test_score')\n",
    "\n",
    "#results_linear.head(10)\n",
    "#results_linear.round(3).head(20)\n",
    "results_linear[['param_bestf__k','param_cvec__binary','param_svc__C', 'param_cvec__min_df','param_svc__kernel','mean_test_score','std_test_score','rank_test_score']].round(3).head(5)"
   ]
  },
  {
   "cell_type": "code",
   "execution_count": null,
   "metadata": {},
   "outputs": [],
   "source": []
  },
  {
   "cell_type": "code",
   "execution_count": 11,
   "metadata": {},
   "outputs": [],
   "source": [
    "# Generating training predictions\n",
    "\n",
    "cvec_linear_train_preds = cvec_linear_svc_gs.predict(X_train)\n",
    "\n",
    "cvec_linear_train_score = cvec_linear_svc_gs.decision_function(X_train)\n",
    "\n",
    "# Training metrics\n",
    "\n",
    "summary_training_linear=metrics.binary_classification_summary(y_train, cvec_linear_train_preds,cvec_linear_train_score,'summary_training_linear')"
   ]
  },
  {
   "cell_type": "code",
   "execution_count": 12,
   "metadata": {},
   "outputs": [
    {
     "name": "stdout",
     "output_type": "stream",
     "text": [
      "0.9651385156088484\n"
     ]
    },
    {
     "data": {
      "image/png": "[encoded data removed]",
      "text/plain": [
       "<Figure size 432x288 with 1 Axes>"
      ]
     },
     "metadata": {
      "needs_background": "light"
     },
     "output_type": "display_data"
    }
   ],
   "source": [
    "fprs,tprs,thresholds = roc_curve(y_train, cvec_linear_train_score)\n",
    "AUROC = auc(fprs,tprs)\n",
    "plt.plot(fprs,tprs,color='darkorange')\n",
    "plt.plot([0,1],[0,1],color='darkblue')\n",
    "print(AUROC)"
   ]
  },
  {
   "cell_type": "code",
   "execution_count": null,
   "metadata": {},
   "outputs": [],
   "source": []
  },
  {
   "cell_type": "markdown",
   "metadata": {},
   "source": [
    "#### Count Vector + SVM Kernel - rbf \n"
   ]
  },
  {
   "cell_type": "code",
   "execution_count": 13,
   "metadata": {},
   "outputs": [
    {
     "name": "stdout",
     "output_type": "stream",
     "text": [
      "{'bestf__k': 400, 'bestf__score_func': <function chi2 at 0x7ff17fbf9ca0>, 'cvec__binary': False, 'cvec__max_features': None, 'cvec__min_df': 2, 'cvec__ngram_range': (1, 1), 'cvec__stop_words': ['i', 'me', 'my', 'myself', 'we', 'our', 'ours', 'ourselves', 'you', \"you're\", \"you've\", \"you'll\", \"you'd\", 'your', 'yours', 'yourself', 'yourselves', 'he', 'him', 'his', 'himself', 'she', \"she's\", 'her', 'hers', 'herself', 'it', \"it's\", 'its', 'itself', 'they', 'them', 'their', 'theirs', 'themselves', 'what', 'which', 'who', 'whom', 'this', 'that', \"that'll\", 'these', 'those', 'am', 'is', 'are', 'was', 'were', 'be', 'been', 'being', 'have', 'has', 'had', 'having', 'do', 'does', 'did', 'doing', 'a', 'an', 'the', 'and', 'but', 'if', 'or', 'because', 'as', 'until', 'while', 'of', 'at', 'by', 'for', 'with', 'about', 'against', 'between', 'into', 'through', 'during', 'before', 'after', 'above', 'below', 'to', 'from', 'up', 'down', 'in', 'out', 'on', 'off', 'over', 'under', 'again', 'further', 'then', 'once', 'here', 'there', 'when', 'where', 'why', 'how', 'all', 'any', 'both', 'each', 'few', 'more', 'most', 'other', 'some', 'such', 'no', 'nor', 'not', 'only', 'own', 'same', 'so', 'than', 'too', 'very', 's', 't', 'can', 'will', 'just', 'don', \"don't\", 'should', \"should've\", 'now', 'd', 'll', 'm', 'o', 're', 've', 'y', 'ain', 'aren', \"aren't\", 'couldn', \"couldn't\", 'didn', \"didn't\", 'doesn', \"doesn't\", 'hadn', \"hadn't\", 'hasn', \"hasn't\", 'haven', \"haven't\", 'isn', \"isn't\", 'ma', 'mightn', \"mightn't\", 'mustn', \"mustn't\", 'needn', \"needn't\", 'shan', \"shan't\", 'shouldn', \"shouldn't\", 'wasn', \"wasn't\", 'weren', \"weren't\", 'won', \"won't\", 'wouldn', \"wouldn't\"], 'svc__C': 0.01, 'svc__gamma': 0.1, 'svc__kernel': 'rbf', 'svc__probability': True}\n"
     ]
    }
   ],
   "source": [
    "# Setting CVEC and pipe hyperparameters\n",
    "\n",
    "cvec_rbf_pipe_params = {\"cvec__max_features\": [None], \n",
    "                    \"cvec__ngram_range\" : [(1,1)], \n",
    "                    \"cvec__stop_words\"  : [stop_words],\n",
    "                    \"cvec__binary\"      : [False],\n",
    "                    \"cvec__min_df\"      : [2],\n",
    "                    \"bestf__score_func\" : [chi2],\n",
    "                    \"bestf__k\"          : [300,350,400,450,500], \n",
    "                    \"svc__C\"            : [0.001,0.005,0.01,0.05,0.1,1,100],\n",
    "                    \"svc__gamma\"        : [0.02,0.1,5],\n",
    "                    \"svc__kernel\"       : [\"rbf\"],\n",
    "                    \"svc__probability\"  : [True]}\n",
    "\n",
    "                    \n",
    "# Instantiating the grid search\n",
    "\n",
    "cvec_rbf_svc_gs = GridSearchCV(cvec_svc_pipe, \n",
    "                           param_grid = cvec_rbf_pipe_params, \n",
    "                           cv         = 10,\n",
    "                           scoring    = 'roc_auc'\n",
    "                           )\n",
    "\n",
    "                    \n",
    "# Fitting the model to the training data\n",
    "\n",
    "cvec_rbf_svc_gs.fit(X_train, y_train)\n",
    "\n",
    "# print best parameter after tuning \n",
    "print(cvec_rbf_svc_gs.best_params_) "
   ]
  },
  {
   "cell_type": "code",
   "execution_count": 14,
   "metadata": {},
   "outputs": [
    {
     "data": {
      "text/html": [
       "<div>\n",
       "<style scoped>\n",
       "    .dataframe tbody tr th:only-of-type {\n",
       "        vertical-align: middle;\n",
       "    }\n",
       "\n",
       "    .dataframe tbody tr th {\n",
       "        vertical-align: top;\n",
       "    }\n",
       "\n",
       "    .dataframe thead th {\n",
       "        text-align: right;\n",
       "    }\n",
       "</style>\n",
       "<table border=\"1\" class=\"dataframe\">\n",
       "  <thead>\n",
       "    <tr style=\"text-align: right;\">\n",
       "      <th></th>\n",
       "      <th>param_bestf__k</th>\n",
       "      <th>param_cvec__binary</th>\n",
       "      <th>param_svc__C</th>\n",
       "      <th>param_svc__kernel</th>\n",
       "      <th>param_svc__gamma</th>\n",
       "      <th>mean_test_score</th>\n",
       "      <th>std_test_score</th>\n",
       "      <th>rank_test_score</th>\n",
       "    </tr>\n",
       "  </thead>\n",
       "  <tbody>\n",
       "    <tr>\n",
       "      <th>49</th>\n",
       "      <td>400</td>\n",
       "      <td>False</td>\n",
       "      <td>0.01</td>\n",
       "      <td>rbf</td>\n",
       "      <td>0.1</td>\n",
       "      <td>0.883</td>\n",
       "      <td>0.045</td>\n",
       "      <td>1</td>\n",
       "    </tr>\n",
       "    <tr>\n",
       "      <th>52</th>\n",
       "      <td>400</td>\n",
       "      <td>False</td>\n",
       "      <td>0.05</td>\n",
       "      <td>rbf</td>\n",
       "      <td>0.1</td>\n",
       "      <td>0.883</td>\n",
       "      <td>0.046</td>\n",
       "      <td>2</td>\n",
       "    </tr>\n",
       "    <tr>\n",
       "      <th>58</th>\n",
       "      <td>400</td>\n",
       "      <td>False</td>\n",
       "      <td>1</td>\n",
       "      <td>rbf</td>\n",
       "      <td>0.1</td>\n",
       "      <td>0.883</td>\n",
       "      <td>0.045</td>\n",
       "      <td>3</td>\n",
       "    </tr>\n",
       "    <tr>\n",
       "      <th>55</th>\n",
       "      <td>400</td>\n",
       "      <td>False</td>\n",
       "      <td>0.1</td>\n",
       "      <td>rbf</td>\n",
       "      <td>0.1</td>\n",
       "      <td>0.883</td>\n",
       "      <td>0.045</td>\n",
       "      <td>4</td>\n",
       "    </tr>\n",
       "    <tr>\n",
       "      <th>76</th>\n",
       "      <td>450</td>\n",
       "      <td>False</td>\n",
       "      <td>0.1</td>\n",
       "      <td>rbf</td>\n",
       "      <td>0.1</td>\n",
       "      <td>0.883</td>\n",
       "      <td>0.045</td>\n",
       "      <td>5</td>\n",
       "    </tr>\n",
       "  </tbody>\n",
       "</table>\n",
       "</div>"
      ],
      "text/plain": [
       "   param_bestf__k param_cvec__binary param_svc__C param_svc__kernel  \\\n",
       "49            400              False         0.01               rbf   \n",
       "52            400              False         0.05               rbf   \n",
       "58            400              False            1               rbf   \n",
       "55            400              False          0.1               rbf   \n",
       "76            450              False          0.1               rbf   \n",
       "\n",
       "   param_svc__gamma  mean_test_score  std_test_score  rank_test_score  \n",
       "49              0.1            0.883           0.045                1  \n",
       "52              0.1            0.883           0.046                2  \n",
       "58              0.1            0.883           0.045                3  \n",
       "55              0.1            0.883           0.045                4  \n",
       "76              0.1            0.883           0.045                5  "
      ]
     },
     "execution_count": 14,
     "metadata": {},
     "output_type": "execute_result"
    }
   ],
   "source": [
    "results_rbf = pd.DataFrame(cvec_rbf_svc_gs.cv_results_)\n",
    "results_rbf = results_rbf.sort_values(by='rank_test_score')\n",
    "#results_rbf.head()\n",
    "\n",
    "results_rbf[['param_bestf__k','param_cvec__binary','param_svc__C', 'param_svc__kernel','param_svc__gamma','mean_test_score','std_test_score', 'rank_test_score']].round(3).head(5)"
   ]
  },
  {
   "cell_type": "code",
   "execution_count": 15,
   "metadata": {},
   "outputs": [],
   "source": [
    "# Generating training predictions\n",
    "\n",
    "cvec_rbf_train_preds = cvec_rbf_svc_gs.predict(X_train)\n",
    "\n",
    "cvec_rbf_train_score = cvec_rbf_svc_gs.decision_function(X_train)\n",
    "\n",
    "# Training metrics\n",
    "\n",
    "summary_training_rbf=metrics.binary_classification_summary(y_train, cvec_rbf_train_preds,cvec_rbf_train_score,'summary_training_rbf')"
   ]
  },
  {
   "cell_type": "code",
   "execution_count": 16,
   "metadata": {},
   "outputs": [
    {
     "data": {
      "text/html": [
       "<div>\n",
       "<style scoped>\n",
       "    .dataframe tbody tr th:only-of-type {\n",
       "        vertical-align: middle;\n",
       "    }\n",
       "\n",
       "    .dataframe tbody tr th {\n",
       "        vertical-align: top;\n",
       "    }\n",
       "\n",
       "    .dataframe thead th {\n",
       "        text-align: right;\n",
       "    }\n",
       "</style>\n",
       "<table border=\"1\" class=\"dataframe\">\n",
       "  <thead>\n",
       "    <tr style=\"text-align: right;\">\n",
       "      <th></th>\n",
       "      <th>Predicted Related</th>\n",
       "      <th>Predicted Irrelated</th>\n",
       "    </tr>\n",
       "  </thead>\n",
       "  <tbody>\n",
       "    <tr>\n",
       "      <th>Actual Related</th>\n",
       "      <td>691</td>\n",
       "      <td>0</td>\n",
       "    </tr>\n",
       "    <tr>\n",
       "      <th>Actual Irrelated</th>\n",
       "      <td>140</td>\n",
       "      <td>0</td>\n",
       "    </tr>\n",
       "  </tbody>\n",
       "</table>\n",
       "</div>"
      ],
      "text/plain": [
       "                  Predicted Related  Predicted Irrelated\n",
       "Actual Related                  691                    0\n",
       "Actual Irrelated                140                    0"
      ]
     },
     "execution_count": 16,
     "metadata": {},
     "output_type": "execute_result"
    }
   ],
   "source": [
    "# Generating a confusion matrix on the test results\n",
    "\n",
    "metrics.confusion_matrix_dataframe(y_train, \n",
    "                                   cvec_rbf_train_preds,\n",
    "                                   columns = [\"Predicted Related\", \"Predicted Irrelated\"],\n",
    "                                   index   = [\"Actual Related\", \"Actual Irrelated\"])"
   ]
  },
  {
   "cell_type": "code",
   "execution_count": 17,
   "metadata": {},
   "outputs": [
    {
     "name": "stdout",
     "output_type": "stream",
     "text": [
      "0.973857763076287\n"
     ]
    },
    {
     "data": {
      "image/png": "[encoded data removed]",
      "text/plain": [
       "<Figure size 432x288 with 1 Axes>"
      ]
     },
     "metadata": {
      "needs_background": "light"
     },
     "output_type": "display_data"
    }
   ],
   "source": [
    "fprs,tprs,thresholds = roc_curve(y_train, cvec_rbf_train_score)\n",
    "AUROC = auc(fprs,tprs)\n",
    "plt.plot(fprs,tprs,color='darkorange')\n",
    "plt.plot([0,1],[0,1],color='darkblue')\n",
    "print(AUROC)"
   ]
  },
  {
   "cell_type": "code",
   "execution_count": null,
   "metadata": {},
   "outputs": [],
   "source": []
  },
  {
   "cell_type": "markdown",
   "metadata": {},
   "source": [
    "### Fining Tuning with Threshold Moving"
   ]
  },
  {
   "cell_type": "code",
   "execution_count": 18,
   "metadata": {},
   "outputs": [],
   "source": [
    "def plot_precision_recall_vs_threshold(precisions, recalls, thresholds):\n",
    "\n",
    "    fscore = (2*precisions*recalls)/(precisions+recalls)\n",
    "    plt.figure(figsize=(8, 8))\n",
    "    plt.title(\"Precision and Recall Scores as a function of the decision threshold\")\n",
    "    plt.plot(thresholds, precisions[:-1], \"b--\", label=\"Precision\")\n",
    "    plt.plot(thresholds, recalls[:-1], \"g-\", label=\"Recall\")\n",
    "    plt.plot(thresholds, fscore[:-1], \"k:\", label=\"fscore\")\n",
    "    plt.ylabel(\"Score\")\n",
    "    plt.xlabel(\"Decision Threshold\")\n",
    "    ix=np.argmax(fscore)\n",
    "    plt.scatter(thresholds[ix],fscore[ix],marker='X',color='red',label='Best')\n",
    "    #print('Best Threshold=%f, F-score=%.3f'%(thresholds[ix],fscore[ix]))\n",
    "    threshold_= thresholds[ix]\n",
    "    return threshold_\n"
   ]
  },
  {
   "cell_type": "code",
   "execution_count": 19,
   "metadata": {},
   "outputs": [],
   "source": [
    "# This function allows for dataframes to be displayed side-by-side\n",
    "\n",
    "def display_side_by_side(*args):\n",
    "    html_str = ''\n",
    "    for df in args:\n",
    "        html_str += df.to_html()\n",
    "    display_html(html_str.replace('table', 'table style=\"display:inline\"'), raw = True)"
   ]
  },
  {
   "cell_type": "code",
   "execution_count": 20,
   "metadata": {},
   "outputs": [],
   "source": [
    "def adjusted_prediction(y_scores,t):\n",
    "    return [1 if y >= t else 0 for y in y_scores]"
   ]
  },
  {
   "cell_type": "code",
   "execution_count": null,
   "metadata": {},
   "outputs": [],
   "source": []
  },
  {
   "cell_type": "markdown",
   "metadata": {},
   "source": [
    "#### Linear Kernel"
   ]
  },
  {
   "cell_type": "code",
   "execution_count": 21,
   "metadata": {},
   "outputs": [],
   "source": [
    "precision_linear, recall_linear, thresholds_linear = precision_recall_curve(y_train, cvec_linear_train_score)"
   ]
  },
  {
   "cell_type": "code",
   "execution_count": 22,
   "metadata": {},
   "outputs": [
    {
     "data": {
      "image/png": "[encoded data removed]",
      "text/plain": [
       "<Figure size 576x576 with 1 Axes>"
      ]
     },
     "metadata": {
      "needs_background": "light"
     },
     "output_type": "display_data"
    }
   ],
   "source": [
    "# plot the precion, recall and f score a function of the decision threshold based on the linear kernal\n",
    "\n",
    "adjusted_threshold_linear=plot_precision_recall_vs_threshold(precision_linear, recall_linear, thresholds_linear)"
   ]
  },
  {
   "cell_type": "code",
   "execution_count": 23,
   "metadata": {},
   "outputs": [
    {
     "name": "stdout",
     "output_type": "stream",
     "text": [
      "-0.9991006884379525\n"
     ]
    }
   ],
   "source": [
    "print(adjusted_threshold_linear)"
   ]
  },
  {
   "cell_type": "code",
   "execution_count": 24,
   "metadata": {},
   "outputs": [],
   "source": [
    "cvec_linear_train_new_preds=adjusted_prediction(cvec_linear_train_score,adjusted_threshold_linear)"
   ]
  },
  {
   "cell_type": "code",
   "execution_count": 25,
   "metadata": {},
   "outputs": [
    {
     "data": {
      "text/html": [
       "<div>\n",
       "<style scoped>\n",
       "    .dataframe tbody tr th:only-of-type {\n",
       "        vertical-align: middle;\n",
       "    }\n",
       "\n",
       "    .dataframe tbody tr th {\n",
       "        vertical-align: top;\n",
       "    }\n",
       "\n",
       "    .dataframe thead th {\n",
       "        text-align: right;\n",
       "    }\n",
       "</style>\n",
       "<table border=\"1\" class=\"dataframe\">\n",
       "  <thead>\n",
       "    <tr style=\"text-align: right;\">\n",
       "      <th></th>\n",
       "      <th>Predicted Related (Ajusted)</th>\n",
       "      <th>Predicted Irrelated(Ajusted)</th>\n",
       "    </tr>\n",
       "  </thead>\n",
       "  <tbody>\n",
       "    <tr>\n",
       "      <th>Actual Related</th>\n",
       "      <td>646</td>\n",
       "      <td>45</td>\n",
       "    </tr>\n",
       "    <tr>\n",
       "      <th>Actual Irrelated</th>\n",
       "      <td>15</td>\n",
       "      <td>125</td>\n",
       "    </tr>\n",
       "  </tbody>\n",
       "</table>\n",
       "</div>"
      ],
      "text/plain": [
       "                  Predicted Related (Ajusted)  Predicted Irrelated(Ajusted)\n",
       "Actual Related                            646                            45\n",
       "Actual Irrelated                           15                           125"
      ]
     },
     "execution_count": 25,
     "metadata": {},
     "output_type": "execute_result"
    }
   ],
   "source": [
    "# Generating a new confusion matrix on the training results\n",
    "\n",
    "metrics.confusion_matrix_dataframe(y_train, \n",
    "                                   cvec_linear_train_new_preds,\n",
    "                                   columns = [\"Predicted Related (Ajusted)\", \"Predicted Irrelated(Ajusted)\"],\n",
    "                                   index   = [\"Actual Related\", \"Actual Irrelated\"])"
   ]
  },
  {
   "cell_type": "code",
   "execution_count": 26,
   "metadata": {},
   "outputs": [],
   "source": [
    "summary_training_linear_new=metrics.binary_classification_summary(y_train, cvec_linear_train_new_preds,cvec_linear_train_score,'summary_training_linear_adjusted')"
   ]
  },
  {
   "cell_type": "code",
   "execution_count": null,
   "metadata": {},
   "outputs": [],
   "source": []
  },
  {
   "cell_type": "markdown",
   "metadata": {},
   "source": [
    "#### rbf Kernal"
   ]
  },
  {
   "cell_type": "code",
   "execution_count": 27,
   "metadata": {},
   "outputs": [],
   "source": [
    "precision_rbf, recall_rbf, thresholds_rbf = precision_recall_curve(y_train, cvec_rbf_train_score)\n"
   ]
  },
  {
   "cell_type": "code",
   "execution_count": 28,
   "metadata": {},
   "outputs": [
    {
     "data": {
      "image/png": "[encoded data removed]",
      "text/plain": [
       "<Figure size 576x576 with 1 Axes>"
      ]
     },
     "metadata": {
      "needs_background": "light"
     },
     "output_type": "display_data"
    }
   ],
   "source": [
    "# plot the precion, recall and f score a function of the decision threshold based on the rbf kernal\n",
    "\n",
    "adjusted_threshold_rbf = plot_precision_recall_vs_threshold(precision_rbf, recall_rbf, thresholds_rbf)"
   ]
  },
  {
   "cell_type": "code",
   "execution_count": 29,
   "metadata": {},
   "outputs": [
    {
     "name": "stdout",
     "output_type": "stream",
     "text": [
      "-0.9954405864941994\n"
     ]
    }
   ],
   "source": [
    "print(adjusted_threshold_rbf)"
   ]
  },
  {
   "cell_type": "code",
   "execution_count": 30,
   "metadata": {},
   "outputs": [],
   "source": [
    "cvec_rbf_train_new_preds=adjusted_prediction(cvec_rbf_train_score,adjusted_threshold_rbf)"
   ]
  },
  {
   "cell_type": "code",
   "execution_count": 31,
   "metadata": {},
   "outputs": [
    {
     "data": {
      "text/html": [
       "<div>\n",
       "<style scoped>\n",
       "    .dataframe tbody tr th:only-of-type {\n",
       "        vertical-align: middle;\n",
       "    }\n",
       "\n",
       "    .dataframe tbody tr th {\n",
       "        vertical-align: top;\n",
       "    }\n",
       "\n",
       "    .dataframe thead th {\n",
       "        text-align: right;\n",
       "    }\n",
       "</style>\n",
       "<table border=\"1\" class=\"dataframe\">\n",
       "  <thead>\n",
       "    <tr style=\"text-align: right;\">\n",
       "      <th></th>\n",
       "      <th>Predicted Related (Ajusted)</th>\n",
       "      <th>Predicted Irrelated(Ajusted)</th>\n",
       "    </tr>\n",
       "  </thead>\n",
       "  <tbody>\n",
       "    <tr>\n",
       "      <th>Actual Related</th>\n",
       "      <td>640</td>\n",
       "      <td>51</td>\n",
       "    </tr>\n",
       "    <tr>\n",
       "      <th>Actual Irrelated</th>\n",
       "      <td>5</td>\n",
       "      <td>135</td>\n",
       "    </tr>\n",
       "  </tbody>\n",
       "</table>\n",
       "</div>"
      ],
      "text/plain": [
       "                  Predicted Related (Ajusted)  Predicted Irrelated(Ajusted)\n",
       "Actual Related                            640                            51\n",
       "Actual Irrelated                            5                           135"
      ]
     },
     "execution_count": 31,
     "metadata": {},
     "output_type": "execute_result"
    }
   ],
   "source": [
    "# Generating a confusion matrix on the test results\n",
    "\n",
    "metrics.confusion_matrix_dataframe(y_train, \n",
    "                                   cvec_rbf_train_new_preds,\n",
    "                                   columns = [\"Predicted Related (Ajusted)\", \"Predicted Irrelated(Ajusted)\"],\n",
    "                                   index   = [\"Actual Related\", \"Actual Irrelated\"])"
   ]
  },
  {
   "cell_type": "code",
   "execution_count": 32,
   "metadata": {},
   "outputs": [],
   "source": [
    "summary_training_rbf_new=metrics.binary_classification_summary(y_train, cvec_rbf_train_new_preds,cvec_rbf_train_score,'summary_training_rbf_adjusted')\n"
   ]
  },
  {
   "cell_type": "code",
   "execution_count": 33,
   "metadata": {
    "scrolled": true
   },
   "outputs": [
    {
     "data": {
      "text/html": [
       "<table style=\"display:inline\" border=\"1\" class=\"dataframe\">\n",
       "  <thead>\n",
       "    <tr style=\"text-align: right;\">\n",
       "      <th></th>\n",
       "      <th>summary_training_linear</th>\n",
       "    </tr>\n",
       "  </thead>\n",
       "  <tbody>\n",
       "    <tr>\n",
       "      <th>Accuracy</th>\n",
       "      <td>0.831528</td>\n",
       "    </tr>\n",
       "    <tr>\n",
       "      <th>Sensitivity</th>\n",
       "      <td>0.000000</td>\n",
       "    </tr>\n",
       "    <tr>\n",
       "      <th>Specificity</th>\n",
       "      <td>1.000000</td>\n",
       "    </tr>\n",
       "    <tr>\n",
       "      <th>AUROC</th>\n",
       "      <td>0.965139</td>\n",
       "    </tr>\n",
       "  </tbody>\n",
       "</table style=\"display:inline\"><table style=\"display:inline\" border=\"1\" class=\"dataframe\">\n",
       "  <thead>\n",
       "    <tr style=\"text-align: right;\">\n",
       "      <th></th>\n",
       "      <th>summary_training_linear_adjusted</th>\n",
       "    </tr>\n",
       "  </thead>\n",
       "  <tbody>\n",
       "    <tr>\n",
       "      <th>Accuracy</th>\n",
       "      <td>0.927798</td>\n",
       "    </tr>\n",
       "    <tr>\n",
       "      <th>Sensitivity</th>\n",
       "      <td>0.892857</td>\n",
       "    </tr>\n",
       "    <tr>\n",
       "      <th>Specificity</th>\n",
       "      <td>0.934877</td>\n",
       "    </tr>\n",
       "    <tr>\n",
       "      <th>AUROC</th>\n",
       "      <td>0.965139</td>\n",
       "    </tr>\n",
       "  </tbody>\n",
       "</table style=\"display:inline\"><table style=\"display:inline\" border=\"1\" class=\"dataframe\">\n",
       "  <thead>\n",
       "    <tr style=\"text-align: right;\">\n",
       "      <th></th>\n",
       "      <th>summary_training_rbf</th>\n",
       "    </tr>\n",
       "  </thead>\n",
       "  <tbody>\n",
       "    <tr>\n",
       "      <th>Accuracy</th>\n",
       "      <td>0.831528</td>\n",
       "    </tr>\n",
       "    <tr>\n",
       "      <th>Sensitivity</th>\n",
       "      <td>0.000000</td>\n",
       "    </tr>\n",
       "    <tr>\n",
       "      <th>Specificity</th>\n",
       "      <td>1.000000</td>\n",
       "    </tr>\n",
       "    <tr>\n",
       "      <th>AUROC</th>\n",
       "      <td>0.973858</td>\n",
       "    </tr>\n",
       "  </tbody>\n",
       "</table style=\"display:inline\"><table style=\"display:inline\" border=\"1\" class=\"dataframe\">\n",
       "  <thead>\n",
       "    <tr style=\"text-align: right;\">\n",
       "      <th></th>\n",
       "      <th>summary_training_rbf_adjusted</th>\n",
       "    </tr>\n",
       "  </thead>\n",
       "  <tbody>\n",
       "    <tr>\n",
       "      <th>Accuracy</th>\n",
       "      <td>0.932611</td>\n",
       "    </tr>\n",
       "    <tr>\n",
       "      <th>Sensitivity</th>\n",
       "      <td>0.964286</td>\n",
       "    </tr>\n",
       "    <tr>\n",
       "      <th>Specificity</th>\n",
       "      <td>0.926194</td>\n",
       "    </tr>\n",
       "    <tr>\n",
       "      <th>AUROC</th>\n",
       "      <td>0.973858</td>\n",
       "    </tr>\n",
       "  </tbody>\n",
       "</table style=\"display:inline\">"
      ]
     },
     "metadata": {},
     "output_type": "display_data"
    }
   ],
   "source": [
    "display_side_by_side(summary_training_linear,summary_training_linear_new,summary_training_rbf,summary_training_rbf_new)"
   ]
  },
  {
   "cell_type": "code",
   "execution_count": null,
   "metadata": {},
   "outputs": [],
   "source": []
  },
  {
   "cell_type": "markdown",
   "metadata": {},
   "source": [
    "**TFIDF Vectorizer**"
   ]
  },
  {
   "cell_type": "markdown",
   "metadata": {},
   "source": [
    "#### Linear Kernal"
   ]
  },
  {
   "cell_type": "code",
   "execution_count": 34,
   "metadata": {},
   "outputs": [
    {
     "name": "stdout",
     "output_type": "stream",
     "text": [
      "{'bestf__k': 400, 'bestf__score_func': <function chi2 at 0x7ff17fbf9ca0>, 'svc__C': 1, 'svc__kernel': 'linear', 'svc__probability': True, 'tvec__binary': False, 'tvec__max_features': None, 'tvec__min_df': 2, 'tvec__ngram_range': (1, 2), 'tvec__stop_words': ['i', 'me', 'my', 'myself', 'we', 'our', 'ours', 'ourselves', 'you', \"you're\", \"you've\", \"you'll\", \"you'd\", 'your', 'yours', 'yourself', 'yourselves', 'he', 'him', 'his', 'himself', 'she', \"she's\", 'her', 'hers', 'herself', 'it', \"it's\", 'its', 'itself', 'they', 'them', 'their', 'theirs', 'themselves', 'what', 'which', 'who', 'whom', 'this', 'that', \"that'll\", 'these', 'those', 'am', 'is', 'are', 'was', 'were', 'be', 'been', 'being', 'have', 'has', 'had', 'having', 'do', 'does', 'did', 'doing', 'a', 'an', 'the', 'and', 'but', 'if', 'or', 'because', 'as', 'until', 'while', 'of', 'at', 'by', 'for', 'with', 'about', 'against', 'between', 'into', 'through', 'during', 'before', 'after', 'above', 'below', 'to', 'from', 'up', 'down', 'in', 'out', 'on', 'off', 'over', 'under', 'again', 'further', 'then', 'once', 'here', 'there', 'when', 'where', 'why', 'how', 'all', 'any', 'both', 'each', 'few', 'more', 'most', 'other', 'some', 'such', 'no', 'nor', 'not', 'only', 'own', 'same', 'so', 'than', 'too', 'very', 's', 't', 'can', 'will', 'just', 'don', \"don't\", 'should', \"should've\", 'now', 'd', 'll', 'm', 'o', 're', 've', 'y', 'ain', 'aren', \"aren't\", 'couldn', \"couldn't\", 'didn', \"didn't\", 'doesn', \"doesn't\", 'hadn', \"hadn't\", 'hasn', \"hasn't\", 'haven', \"haven't\", 'isn', \"isn't\", 'ma', 'mightn', \"mightn't\", 'mustn', \"mustn't\", 'needn', \"needn't\", 'shan', \"shan't\", 'shouldn', \"shouldn't\", 'wasn', \"wasn't\", 'weren', \"weren't\", 'won', \"won't\", 'wouldn', \"wouldn't\"]}\n"
     ]
    }
   ],
   "source": [
    "# Setting up the pipeline\n",
    "\n",
    "tvec_svc_pipe = Pipeline([(\"tvec\", TfidfVectorizer()), \n",
    "                          (\"bestf\",SelectKBest()),\n",
    "                          (\"svc\", SVC())])\n",
    "\n",
    "# Setting TFIDF and pipe hyperparameters\n",
    "\n",
    "tvec_linear_pipe_params = {\"tvec__max_features\": [None], \n",
    "                    \"tvec__ngram_range\" : [(1,2)], \n",
    "                    \"tvec__stop_words\"  : [stop_words],\n",
    "                    \"tvec__binary\"      : [True,False],\n",
    "                    \"tvec__min_df\"      : [2],\n",
    "                    \"bestf__score_func\" : [chi2],\n",
    "                    \"bestf__k\"          : [100,200,300,400,500], \n",
    "                    \"svc__C\"            : [0.001,0.01,0.1,1,10],\n",
    "                    \"svc__kernel\"       : [\"linear\"],\n",
    "                    \"svc__probability\"  : [True]}\n",
    "                    \n",
    "# Instantiating the grid search\n",
    "\n",
    "tvec_linear_svc_gs = GridSearchCV(tvec_svc_pipe, \n",
    "                           param_grid = tvec_linear_pipe_params, \n",
    "                           cv         = 10,\n",
    "                           scoring    = 'roc_auc'\n",
    "                            )\n",
    "\n",
    "\n",
    "# Fitting the model to the training data\n",
    "\n",
    "tvec_linear_svc_gs.fit(X_train, y_train);\n",
    "\n",
    "# print best parameter after tuning \n",
    "print(tvec_linear_svc_gs.best_params_) \n"
   ]
  },
  {
   "cell_type": "code",
   "execution_count": 35,
   "metadata": {},
   "outputs": [
    {
     "data": {
      "text/html": [
       "<div>\n",
       "<style scoped>\n",
       "    .dataframe tbody tr th:only-of-type {\n",
       "        vertical-align: middle;\n",
       "    }\n",
       "\n",
       "    .dataframe tbody tr th {\n",
       "        vertical-align: top;\n",
       "    }\n",
       "\n",
       "    .dataframe thead th {\n",
       "        text-align: right;\n",
       "    }\n",
       "</style>\n",
       "<table border=\"1\" class=\"dataframe\">\n",
       "  <thead>\n",
       "    <tr style=\"text-align: right;\">\n",
       "      <th></th>\n",
       "      <th>param_bestf__k</th>\n",
       "      <th>param_tvec__binary</th>\n",
       "      <th>param_svc__C</th>\n",
       "      <th>param_tvec__min_df</th>\n",
       "      <th>param_svc__kernel</th>\n",
       "      <th>mean_test_score</th>\n",
       "      <th>std_test_score</th>\n",
       "      <th>rank_test_score</th>\n",
       "    </tr>\n",
       "  </thead>\n",
       "  <tbody>\n",
       "    <tr>\n",
       "      <th>37</th>\n",
       "      <td>400</td>\n",
       "      <td>False</td>\n",
       "      <td>1</td>\n",
       "      <td>2</td>\n",
       "      <td>linear</td>\n",
       "      <td>0.836</td>\n",
       "      <td>0.050</td>\n",
       "      <td>1</td>\n",
       "    </tr>\n",
       "    <tr>\n",
       "      <th>45</th>\n",
       "      <td>500</td>\n",
       "      <td>False</td>\n",
       "      <td>0.1</td>\n",
       "      <td>2</td>\n",
       "      <td>linear</td>\n",
       "      <td>0.836</td>\n",
       "      <td>0.053</td>\n",
       "      <td>2</td>\n",
       "    </tr>\n",
       "    <tr>\n",
       "      <th>47</th>\n",
       "      <td>500</td>\n",
       "      <td>False</td>\n",
       "      <td>1</td>\n",
       "      <td>2</td>\n",
       "      <td>linear</td>\n",
       "      <td>0.836</td>\n",
       "      <td>0.056</td>\n",
       "      <td>3</td>\n",
       "    </tr>\n",
       "    <tr>\n",
       "      <th>35</th>\n",
       "      <td>400</td>\n",
       "      <td>False</td>\n",
       "      <td>0.1</td>\n",
       "      <td>2</td>\n",
       "      <td>linear</td>\n",
       "      <td>0.835</td>\n",
       "      <td>0.052</td>\n",
       "      <td>4</td>\n",
       "    </tr>\n",
       "    <tr>\n",
       "      <th>33</th>\n",
       "      <td>400</td>\n",
       "      <td>False</td>\n",
       "      <td>0.01</td>\n",
       "      <td>2</td>\n",
       "      <td>linear</td>\n",
       "      <td>0.834</td>\n",
       "      <td>0.053</td>\n",
       "      <td>5</td>\n",
       "    </tr>\n",
       "  </tbody>\n",
       "</table>\n",
       "</div>"
      ],
      "text/plain": [
       "   param_bestf__k param_tvec__binary param_svc__C param_tvec__min_df  \\\n",
       "37            400              False            1                  2   \n",
       "45            500              False          0.1                  2   \n",
       "47            500              False            1                  2   \n",
       "35            400              False          0.1                  2   \n",
       "33            400              False         0.01                  2   \n",
       "\n",
       "   param_svc__kernel  mean_test_score  std_test_score  rank_test_score  \n",
       "37            linear            0.836           0.050                1  \n",
       "45            linear            0.836           0.053                2  \n",
       "47            linear            0.836           0.056                3  \n",
       "35            linear            0.835           0.052                4  \n",
       "33            linear            0.834           0.053                5  "
      ]
     },
     "execution_count": 35,
     "metadata": {},
     "output_type": "execute_result"
    }
   ],
   "source": [
    "tresults_linear = pd.DataFrame(tvec_linear_svc_gs.cv_results_)\n",
    "\n",
    "#results.head()\n",
    "tresults_linear = tresults_linear.sort_values(by='rank_test_score')\n",
    "\n",
    "#results_linear.round(3).head(20)\n",
    "tresults_linear[['param_bestf__k','param_tvec__binary','param_svc__C', 'param_tvec__min_df','param_svc__kernel','mean_test_score','std_test_score','rank_test_score']].round(3).head(5)"
   ]
  },
  {
   "cell_type": "code",
   "execution_count": 36,
   "metadata": {},
   "outputs": [],
   "source": [
    "# Generating training predictions\n",
    "\n",
    "tvec_linear_train_preds = tvec_linear_svc_gs.predict(X_train)\n",
    "tvec_linear_train_score = tvec_linear_svc_gs.decision_function(X_train)\n",
    "\n",
    "# Training metrics\n",
    "\n",
    "summary_training_tlinear = metrics.binary_classification_summary(y_train, tvec_linear_train_preds,tvec_linear_train_score,'summary_training_linear_tf')"
   ]
  },
  {
   "cell_type": "code",
   "execution_count": 37,
   "metadata": {},
   "outputs": [],
   "source": [
    "precision_tlinear, recall_tlinear, thresholds_tlinear = precision_recall_curve(y_train, tvec_linear_train_score)"
   ]
  },
  {
   "cell_type": "code",
   "execution_count": 38,
   "metadata": {},
   "outputs": [
    {
     "data": {
      "image/png": "[encoded data removed]",
      "text/plain": [
       "<Figure size 576x576 with 1 Axes>"
      ]
     },
     "metadata": {
      "needs_background": "light"
     },
     "output_type": "display_data"
    }
   ],
   "source": [
    "# plot the precion, recall and f score a function of the decision threshold based on the linear kernal\n",
    "\n",
    "adjusted_threshold_tlinear=plot_precision_recall_vs_threshold(precision_tlinear, recall_tlinear, thresholds_tlinear)"
   ]
  },
  {
   "cell_type": "code",
   "execution_count": 39,
   "metadata": {},
   "outputs": [],
   "source": [
    "tvec_linear_train_new_preds=adjusted_prediction(tvec_linear_train_score,adjusted_threshold_tlinear)"
   ]
  },
  {
   "cell_type": "code",
   "execution_count": 40,
   "metadata": {},
   "outputs": [],
   "source": [
    "summary_training_tlinear_new=metrics.binary_classification_summary(y_train, tvec_linear_train_new_preds,tvec_linear_train_score,'summary_training_tlinear_adjusted')"
   ]
  },
  {
   "cell_type": "code",
   "execution_count": null,
   "metadata": {},
   "outputs": [],
   "source": []
  },
  {
   "cell_type": "markdown",
   "metadata": {},
   "source": [
    "#### RBF Kernel "
   ]
  },
  {
   "cell_type": "code",
   "execution_count": 41,
   "metadata": {},
   "outputs": [
    {
     "name": "stdout",
     "output_type": "stream",
     "text": [
      "{'bestf__k': 500, 'bestf__score_func': <function chi2 at 0x7ff17fbf9ca0>, 'svc__C': 0.1, 'svc__gamma': 0.005, 'svc__kernel': 'rbf', 'svc__probability': True, 'tvec__binary': False, 'tvec__max_features': None, 'tvec__min_df': 2, 'tvec__ngram_range': (1, 2), 'tvec__stop_words': ['i', 'me', 'my', 'myself', 'we', 'our', 'ours', 'ourselves', 'you', \"you're\", \"you've\", \"you'll\", \"you'd\", 'your', 'yours', 'yourself', 'yourselves', 'he', 'him', 'his', 'himself', 'she', \"she's\", 'her', 'hers', 'herself', 'it', \"it's\", 'its', 'itself', 'they', 'them', 'their', 'theirs', 'themselves', 'what', 'which', 'who', 'whom', 'this', 'that', \"that'll\", 'these', 'those', 'am', 'is', 'are', 'was', 'were', 'be', 'been', 'being', 'have', 'has', 'had', 'having', 'do', 'does', 'did', 'doing', 'a', 'an', 'the', 'and', 'but', 'if', 'or', 'because', 'as', 'until', 'while', 'of', 'at', 'by', 'for', 'with', 'about', 'against', 'between', 'into', 'through', 'during', 'before', 'after', 'above', 'below', 'to', 'from', 'up', 'down', 'in', 'out', 'on', 'off', 'over', 'under', 'again', 'further', 'then', 'once', 'here', 'there', 'when', 'where', 'why', 'how', 'all', 'any', 'both', 'each', 'few', 'more', 'most', 'other', 'some', 'such', 'no', 'nor', 'not', 'only', 'own', 'same', 'so', 'than', 'too', 'very', 's', 't', 'can', 'will', 'just', 'don', \"don't\", 'should', \"should've\", 'now', 'd', 'll', 'm', 'o', 're', 've', 'y', 'ain', 'aren', \"aren't\", 'couldn', \"couldn't\", 'didn', \"didn't\", 'doesn', \"doesn't\", 'hadn', \"hadn't\", 'hasn', \"hasn't\", 'haven', \"haven't\", 'isn', \"isn't\", 'ma', 'mightn', \"mightn't\", 'mustn', \"mustn't\", 'needn', \"needn't\", 'shan', \"shan't\", 'shouldn', \"shouldn't\", 'wasn', \"wasn't\", 'weren', \"weren't\", 'won', \"won't\", 'wouldn', \"wouldn't\"]}\n"
     ]
    }
   ],
   "source": [
    "# Setting TFIDF and pipe hyperparameters\n",
    "\n",
    "tvec_rbf_pipe_params = {\"tvec__max_features\": [None], \n",
    "                    \"tvec__ngram_range\" : [(1,2)], \n",
    "                    \"tvec__stop_words\"  : [stop_words],\n",
    "                    \"tvec__binary\"      : [True,False],\n",
    "                    \"tvec__min_df\"      : [2],\n",
    "                    \"bestf__score_func\" : [chi2],\n",
    "                    \"bestf__k\"          : [100,200,300,400,500], \n",
    "                    \"svc__C\"            : [0.001,0.005,0.01,0.05,0.1,0.5,1],\n",
    "                    \"svc__gamma\"        : [0.001,0.005,0.01,0.02,0.05],\n",
    "                    \"svc__kernel\"       : [\"rbf\"],\n",
    "                    \"svc__probability\"  : [True]}\n",
    "                    \n",
    "# Instantiating the grid search\n",
    "\n",
    "tvec_rbf_svc_gs = GridSearchCV(tvec_svc_pipe, \n",
    "                           param_grid = tvec_rbf_pipe_params, \n",
    "                           cv         = 10,\n",
    "                           scoring    = 'roc_auc')\n",
    "\n",
    "\n",
    "# Fitting the model to the training data\n",
    "\n",
    "tvec_rbf_svc_gs.fit(X_train, y_train);\n",
    "\n",
    "# print best parameter after tuning \n",
    "print(tvec_rbf_svc_gs.best_params_) \n"
   ]
  },
  {
   "cell_type": "code",
   "execution_count": 42,
   "metadata": {
    "scrolled": true
   },
   "outputs": [
    {
     "data": {
      "text/html": [
       "<div>\n",
       "<style scoped>\n",
       "    .dataframe tbody tr th:only-of-type {\n",
       "        vertical-align: middle;\n",
       "    }\n",
       "\n",
       "    .dataframe tbody tr th {\n",
       "        vertical-align: top;\n",
       "    }\n",
       "\n",
       "    .dataframe thead th {\n",
       "        text-align: right;\n",
       "    }\n",
       "</style>\n",
       "<table border=\"1\" class=\"dataframe\">\n",
       "  <thead>\n",
       "    <tr style=\"text-align: right;\">\n",
       "      <th></th>\n",
       "      <th>param_bestf__k</th>\n",
       "      <th>param_tvec__binary</th>\n",
       "      <th>param_svc__C</th>\n",
       "      <th>param_svc__kernel</th>\n",
       "      <th>param_svc__gamma</th>\n",
       "      <th>mean_test_score</th>\n",
       "      <th>std_test_score</th>\n",
       "      <th>rank_test_score</th>\n",
       "    </tr>\n",
       "  </thead>\n",
       "  <tbody>\n",
       "    <tr>\n",
       "      <th>323</th>\n",
       "      <td>500</td>\n",
       "      <td>False</td>\n",
       "      <td>0.1</td>\n",
       "      <td>rbf</td>\n",
       "      <td>0.005</td>\n",
       "      <td>0.843</td>\n",
       "      <td>0.047</td>\n",
       "      <td>1</td>\n",
       "    </tr>\n",
       "    <tr>\n",
       "      <th>227</th>\n",
       "      <td>400</td>\n",
       "      <td>False</td>\n",
       "      <td>0.005</td>\n",
       "      <td>rbf</td>\n",
       "      <td>0.02</td>\n",
       "      <td>0.843</td>\n",
       "      <td>0.041</td>\n",
       "      <td>2</td>\n",
       "    </tr>\n",
       "    <tr>\n",
       "      <th>237</th>\n",
       "      <td>400</td>\n",
       "      <td>False</td>\n",
       "      <td>0.01</td>\n",
       "      <td>rbf</td>\n",
       "      <td>0.02</td>\n",
       "      <td>0.843</td>\n",
       "      <td>0.041</td>\n",
       "      <td>2</td>\n",
       "    </tr>\n",
       "    <tr>\n",
       "      <th>244</th>\n",
       "      <td>400</td>\n",
       "      <td>True</td>\n",
       "      <td>0.05</td>\n",
       "      <td>rbf</td>\n",
       "      <td>0.01</td>\n",
       "      <td>0.843</td>\n",
       "      <td>0.052</td>\n",
       "      <td>4</td>\n",
       "    </tr>\n",
       "    <tr>\n",
       "      <th>295</th>\n",
       "      <td>500</td>\n",
       "      <td>False</td>\n",
       "      <td>0.005</td>\n",
       "      <td>rbf</td>\n",
       "      <td>0.01</td>\n",
       "      <td>0.843</td>\n",
       "      <td>0.043</td>\n",
       "      <td>5</td>\n",
       "    </tr>\n",
       "  </tbody>\n",
       "</table>\n",
       "</div>"
      ],
      "text/plain": [
       "    param_bestf__k param_tvec__binary param_svc__C param_svc__kernel  \\\n",
       "323            500              False          0.1               rbf   \n",
       "227            400              False        0.005               rbf   \n",
       "237            400              False         0.01               rbf   \n",
       "244            400               True         0.05               rbf   \n",
       "295            500              False        0.005               rbf   \n",
       "\n",
       "    param_svc__gamma  mean_test_score  std_test_score  rank_test_score  \n",
       "323            0.005            0.843           0.047                1  \n",
       "227             0.02            0.843           0.041                2  \n",
       "237             0.02            0.843           0.041                2  \n",
       "244             0.01            0.843           0.052                4  \n",
       "295             0.01            0.843           0.043                5  "
      ]
     },
     "execution_count": 42,
     "metadata": {},
     "output_type": "execute_result"
    }
   ],
   "source": [
    "tresults_rbf = pd.DataFrame(tvec_rbf_svc_gs.cv_results_)\n",
    "tresults_rbf = tresults_rbf.sort_values(by='rank_test_score')\n",
    "#results_rbf.head()\n",
    "\n",
    "tresults_rbf[['param_bestf__k','param_tvec__binary','param_svc__C', 'param_svc__kernel','param_svc__gamma','mean_test_score','std_test_score', 'rank_test_score']].round(3).head(5)"
   ]
  },
  {
   "cell_type": "code",
   "execution_count": 43,
   "metadata": {},
   "outputs": [],
   "source": [
    "# Generating training predictions\n",
    "\n",
    "tvec_rbf_train_preds = tvec_rbf_svc_gs.predict(X_train)\n",
    "tvec_rbf_train_score = tvec_rbf_svc_gs.decision_function(X_train)\n",
    "\n",
    "# Training metrics\n",
    "\n",
    "summary_training_trbf = metrics.binary_classification_summary(y_train, tvec_rbf_train_preds,tvec_rbf_train_score,'summary_training_rbf_tf')"
   ]
  },
  {
   "cell_type": "code",
   "execution_count": 44,
   "metadata": {},
   "outputs": [],
   "source": [
    "precision_trbf, recall_trbf, thresholds_trbf = precision_recall_curve(y_train, tvec_rbf_train_score)"
   ]
  },
  {
   "cell_type": "code",
   "execution_count": 45,
   "metadata": {},
   "outputs": [
    {
     "data": {
      "image/png": "[encoded data removed]",
      "text/plain": [
       "<Figure size 576x576 with 1 Axes>"
      ]
     },
     "metadata": {
      "needs_background": "light"
     },
     "output_type": "display_data"
    }
   ],
   "source": [
    "# plot the precion, recall and f score a function of the decision threshold based on the linear kernal\n",
    "\n",
    "adjusted_threshold_trbf = plot_precision_recall_vs_threshold(precision_trbf, recall_trbf, thresholds_trbf)"
   ]
  },
  {
   "cell_type": "code",
   "execution_count": 46,
   "metadata": {},
   "outputs": [],
   "source": [
    "tvec_rbf_train_new_preds = adjusted_prediction(tvec_rbf_train_score,adjusted_threshold_trbf)"
   ]
  },
  {
   "cell_type": "code",
   "execution_count": 47,
   "metadata": {},
   "outputs": [],
   "source": [
    "summary_training_trbf_new = metrics.binary_classification_summary(y_train, tvec_rbf_train_new_preds,tvec_rbf_train_score,'summary_training_trbf_adjusted')"
   ]
  },
  {
   "cell_type": "code",
   "execution_count": null,
   "metadata": {},
   "outputs": [],
   "source": []
  },
  {
   "cell_type": "markdown",
   "metadata": {},
   "source": [
    "# Compare Models"
   ]
  },
  {
   "cell_type": "code",
   "execution_count": 48,
   "metadata": {},
   "outputs": [
    {
     "data": {
      "text/html": [
       "<table style=\"display:inline\" border=\"1\" class=\"dataframe\">\n",
       "  <thead>\n",
       "    <tr style=\"text-align: right;\">\n",
       "      <th></th>\n",
       "      <th>summary_training_linear_adjusted</th>\n",
       "    </tr>\n",
       "  </thead>\n",
       "  <tbody>\n",
       "    <tr>\n",
       "      <th>Accuracy</th>\n",
       "      <td>0.927798</td>\n",
       "    </tr>\n",
       "    <tr>\n",
       "      <th>Sensitivity</th>\n",
       "      <td>0.892857</td>\n",
       "    </tr>\n",
       "    <tr>\n",
       "      <th>Specificity</th>\n",
       "      <td>0.934877</td>\n",
       "    </tr>\n",
       "    <tr>\n",
       "      <th>AUROC</th>\n",
       "      <td>0.965139</td>\n",
       "    </tr>\n",
       "  </tbody>\n",
       "</table style=\"display:inline\"><table style=\"display:inline\" border=\"1\" class=\"dataframe\">\n",
       "  <thead>\n",
       "    <tr style=\"text-align: right;\">\n",
       "      <th></th>\n",
       "      <th>summary_training_rbf_adjusted</th>\n",
       "    </tr>\n",
       "  </thead>\n",
       "  <tbody>\n",
       "    <tr>\n",
       "      <th>Accuracy</th>\n",
       "      <td>0.932611</td>\n",
       "    </tr>\n",
       "    <tr>\n",
       "      <th>Sensitivity</th>\n",
       "      <td>0.964286</td>\n",
       "    </tr>\n",
       "    <tr>\n",
       "      <th>Specificity</th>\n",
       "      <td>0.926194</td>\n",
       "    </tr>\n",
       "    <tr>\n",
       "      <th>AUROC</th>\n",
       "      <td>0.973858</td>\n",
       "    </tr>\n",
       "  </tbody>\n",
       "</table style=\"display:inline\"><table style=\"display:inline\" border=\"1\" class=\"dataframe\">\n",
       "  <thead>\n",
       "    <tr style=\"text-align: right;\">\n",
       "      <th></th>\n",
       "      <th>summary_training_tlinear_adjusted</th>\n",
       "    </tr>\n",
       "  </thead>\n",
       "  <tbody>\n",
       "    <tr>\n",
       "      <th>Accuracy</th>\n",
       "      <td>0.948255</td>\n",
       "    </tr>\n",
       "    <tr>\n",
       "      <th>Sensitivity</th>\n",
       "      <td>0.821429</td>\n",
       "    </tr>\n",
       "    <tr>\n",
       "      <th>Specificity</th>\n",
       "      <td>0.973951</td>\n",
       "    </tr>\n",
       "    <tr>\n",
       "      <th>AUROC</th>\n",
       "      <td>0.981993</td>\n",
       "    </tr>\n",
       "  </tbody>\n",
       "</table style=\"display:inline\"><table style=\"display:inline\" border=\"1\" class=\"dataframe\">\n",
       "  <thead>\n",
       "    <tr style=\"text-align: right;\">\n",
       "      <th></th>\n",
       "      <th>summary_training_trbf_adjusted</th>\n",
       "    </tr>\n",
       "  </thead>\n",
       "  <tbody>\n",
       "    <tr>\n",
       "      <th>Accuracy</th>\n",
       "      <td>0.939832</td>\n",
       "    </tr>\n",
       "    <tr>\n",
       "      <th>Sensitivity</th>\n",
       "      <td>0.957143</td>\n",
       "    </tr>\n",
       "    <tr>\n",
       "      <th>Specificity</th>\n",
       "      <td>0.936324</td>\n",
       "    </tr>\n",
       "    <tr>\n",
       "      <th>AUROC</th>\n",
       "      <td>0.984784</td>\n",
       "    </tr>\n",
       "  </tbody>\n",
       "</table style=\"display:inline\">"
      ]
     },
     "metadata": {},
     "output_type": "display_data"
    }
   ],
   "source": [
    "display_side_by_side(summary_training_linear_new,summary_training_rbf_new,summary_training_tlinear_new,summary_training_trbf_new)"
   ]
  },
  {
   "cell_type": "code",
   "execution_count": null,
   "metadata": {},
   "outputs": [],
   "source": []
  },
  {
   "cell_type": "markdown",
   "metadata": {},
   "source": [
    "### Validating on test dataset"
   ]
  },
  {
   "cell_type": "code",
   "execution_count": 49,
   "metadata": {},
   "outputs": [],
   "source": [
    "# Generating test predictions based on linear kernel\n",
    "\n",
    "cvec_linear_svc_preds_test       = cvec_linear_svc_gs.predict(X_test)\n",
    "\n",
    "cvec_linear_svc_score_test       = cvec_linear_svc_gs.decision_function(X_test)\n"
   ]
  },
  {
   "cell_type": "code",
   "execution_count": 50,
   "metadata": {},
   "outputs": [],
   "source": [
    "cvec_linear_svc_preds_test_new = adjusted_prediction(cvec_linear_svc_score_test,adjusted_threshold_linear)"
   ]
  },
  {
   "cell_type": "code",
   "execution_count": 51,
   "metadata": {},
   "outputs": [],
   "source": [
    "summary_linear_test_new = metrics.binary_classification_summary(y_test, cvec_linear_svc_preds_test_new,cvec_linear_svc_score_test,'summary_linear_test_adjusted')"
   ]
  },
  {
   "cell_type": "code",
   "execution_count": null,
   "metadata": {},
   "outputs": [],
   "source": []
  },
  {
   "cell_type": "code",
   "execution_count": 52,
   "metadata": {},
   "outputs": [],
   "source": [
    "# Generating test predictions based on linear kernel\n",
    "\n",
    "cvec_rbf_svc_preds_test       = cvec_rbf_svc_gs.predict(X_test)\n",
    "\n",
    "cvec_rbf_svc_score_test       = cvec_rbf_svc_gs.decision_function(X_test)\n"
   ]
  },
  {
   "cell_type": "code",
   "execution_count": 53,
   "metadata": {},
   "outputs": [],
   "source": [
    "cvec_rbf_svc_preds_test_new = adjusted_prediction(cvec_rbf_svc_score_test,adjusted_threshold_rbf)"
   ]
  },
  {
   "cell_type": "code",
   "execution_count": 54,
   "metadata": {},
   "outputs": [],
   "source": [
    "summary_rbf_test_adjusted = metrics.binary_classification_summary(y_test, cvec_rbf_svc_preds_test_new,cvec_rbf_svc_score_test,'summary_rbf_test_adjusted')"
   ]
  },
  {
   "cell_type": "code",
   "execution_count": null,
   "metadata": {},
   "outputs": [],
   "source": []
  },
  {
   "cell_type": "code",
   "execution_count": 55,
   "metadata": {},
   "outputs": [],
   "source": [
    "# Generating test predictions based on linear kernel\n",
    "\n",
    "tvec_linear_svc_preds_test       = tvec_linear_svc_gs.predict(X_test)\n",
    "\n",
    "tvec_linear_svc_score_test       = tvec_linear_svc_gs.decision_function(X_test)\n"
   ]
  },
  {
   "cell_type": "code",
   "execution_count": 56,
   "metadata": {},
   "outputs": [],
   "source": [
    "tvec_linear_svc_preds_test_new=adjusted_prediction(tvec_linear_svc_score_test,adjusted_threshold_tlinear)"
   ]
  },
  {
   "cell_type": "code",
   "execution_count": 57,
   "metadata": {},
   "outputs": [],
   "source": [
    "summary_tlinear_test_new = metrics.binary_classification_summary(y_test, tvec_linear_svc_preds_test_new,tvec_linear_svc_score_test,'summary_tlinear_test_adjusted')"
   ]
  },
  {
   "cell_type": "code",
   "execution_count": null,
   "metadata": {},
   "outputs": [],
   "source": []
  },
  {
   "cell_type": "code",
   "execution_count": 58,
   "metadata": {},
   "outputs": [],
   "source": [
    "# Generating test predictions based on rbf kernel\n",
    "\n",
    "tvec_rbf_svc_preds_test       = tvec_rbf_svc_gs.predict(X_test)\n",
    "\n",
    "tvec_rbf_svc_score_test       = tvec_rbf_svc_gs.decision_function(X_test)"
   ]
  },
  {
   "cell_type": "code",
   "execution_count": 59,
   "metadata": {},
   "outputs": [],
   "source": [
    "tvec_rbf_svc_preds_test_new=adjusted_prediction(tvec_rbf_svc_score_test,adjusted_threshold_trbf)"
   ]
  },
  {
   "cell_type": "code",
   "execution_count": 60,
   "metadata": {},
   "outputs": [],
   "source": [
    "summary_trbf_test_new = metrics.binary_classification_summary(y_test, tvec_rbf_svc_preds_test_new,tvec_rbf_svc_score_test,'summary_trbf_test_adjusted')"
   ]
  },
  {
   "cell_type": "code",
   "execution_count": 61,
   "metadata": {},
   "outputs": [
    {
     "data": {
      "text/html": [
       "<table style=\"display:inline\" border=\"1\" class=\"dataframe\">\n",
       "  <thead>\n",
       "    <tr style=\"text-align: right;\">\n",
       "      <th></th>\n",
       "      <th>summary_linear_test_adjusted</th>\n",
       "    </tr>\n",
       "  </thead>\n",
       "  <tbody>\n",
       "    <tr>\n",
       "      <th>Accuracy</th>\n",
       "      <td>0.794964</td>\n",
       "    </tr>\n",
       "    <tr>\n",
       "      <th>Sensitivity</th>\n",
       "      <td>0.680851</td>\n",
       "    </tr>\n",
       "    <tr>\n",
       "      <th>Specificity</th>\n",
       "      <td>0.818182</td>\n",
       "    </tr>\n",
       "    <tr>\n",
       "      <th>AUROC</th>\n",
       "      <td>0.803215</td>\n",
       "    </tr>\n",
       "  </tbody>\n",
       "</table style=\"display:inline\"><table style=\"display:inline\" border=\"1\" class=\"dataframe\">\n",
       "  <thead>\n",
       "    <tr style=\"text-align: right;\">\n",
       "      <th></th>\n",
       "      <th>summary_rbf_test_adjusted</th>\n",
       "    </tr>\n",
       "  </thead>\n",
       "  <tbody>\n",
       "    <tr>\n",
       "      <th>Accuracy</th>\n",
       "      <td>0.827338</td>\n",
       "    </tr>\n",
       "    <tr>\n",
       "      <th>Sensitivity</th>\n",
       "      <td>0.638298</td>\n",
       "    </tr>\n",
       "    <tr>\n",
       "      <th>Specificity</th>\n",
       "      <td>0.865801</td>\n",
       "    </tr>\n",
       "    <tr>\n",
       "      <th>AUROC</th>\n",
       "      <td>0.828912</td>\n",
       "    </tr>\n",
       "  </tbody>\n",
       "</table style=\"display:inline\"><table style=\"display:inline\" border=\"1\" class=\"dataframe\">\n",
       "  <thead>\n",
       "    <tr style=\"text-align: right;\">\n",
       "      <th></th>\n",
       "      <th>summary_tlinear_test_adjusted</th>\n",
       "    </tr>\n",
       "  </thead>\n",
       "  <tbody>\n",
       "    <tr>\n",
       "      <th>Accuracy</th>\n",
       "      <td>0.809353</td>\n",
       "    </tr>\n",
       "    <tr>\n",
       "      <th>Sensitivity</th>\n",
       "      <td>0.382979</td>\n",
       "    </tr>\n",
       "    <tr>\n",
       "      <th>Specificity</th>\n",
       "      <td>0.896104</td>\n",
       "    </tr>\n",
       "    <tr>\n",
       "      <th>AUROC</th>\n",
       "      <td>0.755043</td>\n",
       "    </tr>\n",
       "  </tbody>\n",
       "</table style=\"display:inline\"><table style=\"display:inline\" border=\"1\" class=\"dataframe\">\n",
       "  <thead>\n",
       "    <tr style=\"text-align: right;\">\n",
       "      <th></th>\n",
       "      <th>summary_trbf_test_adjusted</th>\n",
       "    </tr>\n",
       "  </thead>\n",
       "  <tbody>\n",
       "    <tr>\n",
       "      <th>Accuracy</th>\n",
       "      <td>0.773381</td>\n",
       "    </tr>\n",
       "    <tr>\n",
       "      <th>Sensitivity</th>\n",
       "      <td>0.574468</td>\n",
       "    </tr>\n",
       "    <tr>\n",
       "      <th>Specificity</th>\n",
       "      <td>0.813853</td>\n",
       "    </tr>\n",
       "    <tr>\n",
       "      <th>AUROC</th>\n",
       "      <td>0.773372</td>\n",
       "    </tr>\n",
       "  </tbody>\n",
       "</table style=\"display:inline\">"
      ]
     },
     "metadata": {},
     "output_type": "display_data"
    }
   ],
   "source": [
    "display_side_by_side(summary_linear_test_new,summary_rbf_test_adjusted,summary_tlinear_test_new,summary_trbf_test_new)"
   ]
  },
  {
   "cell_type": "code",
   "execution_count": null,
   "metadata": {},
   "outputs": [],
   "source": []
  },
  {
   "cell_type": "markdown",
   "metadata": {},
   "source": [
    "## Use Prediction Model"
   ]
  },
  {
   "cell_type": "code",
   "execution_count": 64,
   "metadata": {},
   "outputs": [],
   "source": [
    "Model_picked = cvec_rbf_svc_gs\n",
    "\n",
    "Adjusted_threshold = adjusted_threshold_rbf"
   ]
  },
  {
   "cell_type": "code",
   "execution_count": 65,
   "metadata": {},
   "outputs": [],
   "source": [
    "def predict(dataframe):\n",
    "\n",
    "    pred_text = dataframe[\"lemmatized_text\"]\n",
    "    \n",
    "    # For cvec models\n",
    "    \n",
    "    pred_socre = Model_picked.decision_function(pred_text)\n",
    "    \n",
    "    pred_result = adjusted_prediction(pred_socre,adjusted_threshold_rbf)\n",
    "   \n",
    "    # pred_result = Model_picked.predict(pred_text) \n",
    "       \n",
    "    vec_predictions = pd.DataFrame([np.array(pred_text),pred_result],index = [\"body\",\"label\"]).T\n",
    "    \n",
    "    dfname =[x for x in globals() if globals()[x] is dataframe][0]\n",
    "    \n",
    "    # Saving the dataframes as csvs\n",
    "    vec_predictions.to_csv(\"./%s_pred.csv\"%(dfname))"
   ]
  },
  {
   "cell_type": "code",
   "execution_count": 66,
   "metadata": {},
   "outputs": [
    {
     "data": {
      "text/html": [
       "<div>\n",
       "<style scoped>\n",
       "    .dataframe tbody tr th:only-of-type {\n",
       "        vertical-align: middle;\n",
       "    }\n",
       "\n",
       "    .dataframe tbody tr th {\n",
       "        vertical-align: top;\n",
       "    }\n",
       "\n",
       "    .dataframe thead th {\n",
       "        text-align: right;\n",
       "    }\n",
       "</style>\n",
       "<table border=\"1\" class=\"dataframe\">\n",
       "  <thead>\n",
       "    <tr style=\"text-align: right;\">\n",
       "      <th></th>\n",
       "      <th>Unnamed: 0</th>\n",
       "      <th>body</th>\n",
       "    </tr>\n",
       "  </thead>\n",
       "  <tbody>\n",
       "    <tr>\n",
       "      <th>0</th>\n",
       "      <td>0</td>\n",
       "      <td>Looking for that little bit of extra support? ...</td>\n",
       "    </tr>\n",
       "    <tr>\n",
       "      <th>1</th>\n",
       "      <td>1</td>\n",
       "      <td>Hi everyone,\\nMy name is Azizah and I am condu...</td>\n",
       "    </tr>\n",
       "    <tr>\n",
       "      <th>2</th>\n",
       "      <td>2</td>\n",
       "      <td>I am currently doing an extended project quali...</td>\n",
       "    </tr>\n",
       "    <tr>\n",
       "      <th>3</th>\n",
       "      <td>3</td>\n",
       "      <td>Hi Alice, \\n\\nI have Pompholyx. To clear an in...</td>\n",
       "    </tr>\n",
       "    <tr>\n",
       "      <th>4</th>\n",
       "      <td>4</td>\n",
       "      <td>Hello,\\nI am in my third year at Derby Univers...</td>\n",
       "    </tr>\n",
       "  </tbody>\n",
       "</table>\n",
       "</div>"
      ],
      "text/plain": [
       "   Unnamed: 0                                               body\n",
       "0           0  Looking for that little bit of extra support? ...\n",
       "1           1  Hi everyone,\\nMy name is Azizah and I am condu...\n",
       "2           2  I am currently doing an extended project quali...\n",
       "3           3  Hi Alice, \\n\\nI have Pompholyx. To clear an in...\n",
       "4           4  Hello,\\nI am in my third year at Derby Univers..."
      ]
     },
     "execution_count": 66,
     "metadata": {},
     "output_type": "execute_result"
    }
   ],
   "source": [
    "eczema_data= pd.read_csv('./eczema-post-all.csv', encoding=\"iso-8859-1\" )\n",
    "\n",
    "\n",
    "eczema_data.head()"
   ]
  },
  {
   "cell_type": "code",
   "execution_count": 67,
   "metadata": {},
   "outputs": [],
   "source": [
    "eczema_data=eczema_data[eczema_data['body'].notnull()]"
   ]
  },
  {
   "cell_type": "code",
   "execution_count": 68,
   "metadata": {},
   "outputs": [
    {
     "name": "stderr",
     "output_type": "stream",
     "text": [
      "/var/folders/70/8trc80rn081bqmp225zwyp8r0000gq/T/ipykernel_65314/4089405346.py:18: FutureWarning: The default value of regex will change from True to False in a future version.\n",
      "  dataframe[\"body\"] = dataframe[\"body\"].str.replace(\"http\\S+\", \"\")\n"
     ]
    }
   ],
   "source": [
    "eczema_data = cleaning_data(eczema_data)"
   ]
  },
  {
   "cell_type": "code",
   "execution_count": 69,
   "metadata": {},
   "outputs": [
    {
     "data": {
      "text/html": [
       "<div>\n",
       "<style scoped>\n",
       "    .dataframe tbody tr th:only-of-type {\n",
       "        vertical-align: middle;\n",
       "    }\n",
       "\n",
       "    .dataframe tbody tr th {\n",
       "        vertical-align: top;\n",
       "    }\n",
       "\n",
       "    .dataframe thead th {\n",
       "        text-align: right;\n",
       "    }\n",
       "</style>\n",
       "<table border=\"1\" class=\"dataframe\">\n",
       "  <thead>\n",
       "    <tr style=\"text-align: right;\">\n",
       "      <th></th>\n",
       "      <th>Unnamed: 0</th>\n",
       "      <th>body</th>\n",
       "      <th>lemmatized_text</th>\n",
       "    </tr>\n",
       "  </thead>\n",
       "  <tbody>\n",
       "    <tr>\n",
       "      <th>0</th>\n",
       "      <td>0</td>\n",
       "      <td>looking for that little bit of extra support? ...</td>\n",
       "      <td>looking for that little bit of extra support t...</td>\n",
       "    </tr>\n",
       "    <tr>\n",
       "      <th>1</th>\n",
       "      <td>1</td>\n",
       "      <td>hi everyone,\\nmy name is azizah and i am condu...</td>\n",
       "      <td>hi everyone my name is azizah and i am conduct...</td>\n",
       "    </tr>\n",
       "    <tr>\n",
       "      <th>2</th>\n",
       "      <td>2</td>\n",
       "      <td>i am currently doing an extended project quali...</td>\n",
       "      <td>i am currently doing an extended project quali...</td>\n",
       "    </tr>\n",
       "    <tr>\n",
       "      <th>3</th>\n",
       "      <td>3</td>\n",
       "      <td>hi alice, \\n\\ni have pompholyx. to clear an in...</td>\n",
       "      <td>hi alice i have pompholyx to clear an infected...</td>\n",
       "    </tr>\n",
       "    <tr>\n",
       "      <th>4</th>\n",
       "      <td>4</td>\n",
       "      <td>hello,\\ni am in my third year at derby univers...</td>\n",
       "      <td>hello i am in my third year at derby universit...</td>\n",
       "    </tr>\n",
       "  </tbody>\n",
       "</table>\n",
       "</div>"
      ],
      "text/plain": [
       "   Unnamed: 0                                               body  \\\n",
       "0           0  looking for that little bit of extra support? ...   \n",
       "1           1  hi everyone,\\nmy name is azizah and i am condu...   \n",
       "2           2  i am currently doing an extended project quali...   \n",
       "3           3  hi alice, \\n\\ni have pompholyx. to clear an in...   \n",
       "4           4  hello,\\ni am in my third year at derby univers...   \n",
       "\n",
       "                                     lemmatized_text  \n",
       "0  looking for that little bit of extra support t...  \n",
       "1  hi everyone my name is azizah and i am conduct...  \n",
       "2  i am currently doing an extended project quali...  \n",
       "3  hi alice i have pompholyx to clear an infected...  \n",
       "4  hello i am in my third year at derby universit...  "
      ]
     },
     "execution_count": 69,
     "metadata": {},
     "output_type": "execute_result"
    }
   ],
   "source": [
    "eczema_data.head()"
   ]
  },
  {
   "cell_type": "code",
   "execution_count": 70,
   "metadata": {},
   "outputs": [],
   "source": [
    "predict(eczema_data)"
   ]
  },
  {
   "cell_type": "code",
   "execution_count": null,
   "metadata": {},
   "outputs": [],
   "source": []
  }
 ],
 "metadata": {
  "kernelspec": {
   "display_name": "Python 3 (ipykernel)",
   "language": "python",
   "name": "python3"
  },
  "language_info": {
   "codemirror_mode": {
    "name": "ipython",
    "version": 3
   },
   "file_extension": ".py",
   "mimetype": "text/x-python",
   "name": "python",
   "nbconvert_exporter": "python",
   "pygments_lexer": "ipython3",
   "version": "3.9.7"
  }
 },
 "nbformat": 4,
 "nbformat_minor": 4
}
